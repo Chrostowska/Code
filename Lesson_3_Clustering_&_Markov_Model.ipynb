{
  "nbformat": 4,
  "nbformat_minor": 0,
  "metadata": {
    "colab": {
      "provenance": [],
      "authorship_tag": "ABX9TyOBl/rbt8bot3vaullZfBpH",
      "include_colab_link": true
    },
    "kernelspec": {
      "name": "python3",
      "display_name": "Python 3"
    },
    "language_info": {
      "name": "python"
    }
  },
  "cells": [
    {
      "cell_type": "markdown",
      "metadata": {
        "id": "view-in-github",
        "colab_type": "text"
      },
      "source": [
        "<a href=\"https://colab.research.google.com/github/Chrostowska/Code/blob/Notes-TF/Lesson_3_Clustering_%26_Markov_Model.ipynb\" target=\"_parent\"><img src=\"https://colab.research.google.com/assets/colab-badge.svg\" alt=\"Open In Colab\"/></a>"
      ]
    },
    {
      "cell_type": "code",
      "execution_count": null,
      "metadata": {
        "id": "hE1CsoMEyi3V"
      },
      "outputs": [],
      "source": [
        "'''Clustering - for finding points\n",
        "\n",
        "1.Randomly pick K points\n",
        "2.place K centeroids.\n",
        "3.Assign each K point to the closest K centeroid.\n",
        "4.Move each K centeroid into the middle of all of their data points (center of mass).\n",
        "5.Reassign each K point to the closest K centeroid.\n",
        "6. repeat step 4 and 5 till no k point changed centroid on a different one.\n",
        "'''"
      ]
    },
    {
      "cell_type": "code",
      "source": [
        "'''Hidden Markov Models - probability distribution\n",
        "predicting future events/states basic on past events\n",
        "\n",
        "weather model\n",
        "\n",
        "To create a hidden markov model we need:\n",
        "States -\n",
        " we don't care, it could be warm and cold, high and low, red, green and blue... as many states as we want. states are hidden(no directly observe)\n",
        "Observation Distribution - )\n",
        " Each state has a particular outcome (observation). on hot day Tim have 80% of being happy and 20% of being sad. Distribution between 15 and 25 degree, mean 20 degree(standard deviation)\n",
        "Transition Distribution -\n",
        " probability to transition to the different state. Today is hot day and probability for tomorrow cold day is 20% and to transition in another hot day 80%\n",
        "\n",
        "what type of data we need is : constant values for probability, not a thousand of entries/data points\n",
        "states - hot day, cold day (hidden)\n",
        "in each state we have observations - weather as an observation'''\n"
      ],
      "metadata": {
        "id": "B5nfrVGwfQFQ"
      },
      "execution_count": null,
      "outputs": []
    },
    {
      "cell_type": "code",
      "source": [
        "%tensorflow_version 2.x\n",
        "import tensorflow_probability as tfp\n",
        "import tensorflow as tf"
      ],
      "metadata": {
        "colab": {
          "base_uri": "https://localhost:8080/"
        },
        "id": "fUP3E7IlSJXN",
        "outputId": "73508c8e-e8dc-484b-85d9-92cd88e76783"
      },
      "execution_count": 1,
      "outputs": [
        {
          "output_type": "stream",
          "name": "stdout",
          "text": [
            "Colab only includes TensorFlow 2.x; %tensorflow_version has no effect.\n"
          ]
        }
      ]
    },
    {
      "cell_type": "code",
      "source": [
        "# Model a simply weather system and try to predict the temperature on each day given the following information\n",
        "\n",
        "# A simple weather model.\n",
        "\n",
        "# 1. Cold days encoded by a 0 and a hot days by a 1.\n",
        "# 2. The first day of a sequence has a 80% chances of being cold.\n",
        "# 3. A cold day has 30% chances of being followed by a hot day\n",
        "# 4. A hot day have a 20% chances of being followed by a cold day\n",
        "# 5. On a cold day the temperature is normally distributed with mean and standard deviation 0 and 5 on the cold day and mean and standard deviation 15 and 10 on a hot day\n",
        " # standard deviation is a range of expected values, standard deviation 10 with mean 15 means temp range in a hot day is from 5 to 25\n",
        "# We can model this using the categorical distribution:\n",
        "\n",
        "tfd = tfp.distributions #shortcut for later\n",
        "initial_distribution = tfd.Categorical(probs = [0.8, 0.2]) #refer to pint 2 above - 2 states, 2 probabilities (80% of chances for cold day and 20% probablities for hot day)\n",
        "transition_distribution = tfd.Categorical(probs = [[0.7, 0.3],\n",
        "                                                    [0.2, 0.8]]) #refer to the points 3 and 4\n",
        "observation_distribution = tfd.Normal(loc = [0., 15.], scale = [5., 10.]) #refer to point 5\n",
        "#loc argument represetn the mean, scale argument represent standard deviation\n",
        "\n",
        "# We can combine these distributions into a single week long hidden Markov model with:\n",
        "model = tfd.HiddenMarkovModel(\n",
        "    initial_distribution = initial_distribution,\n",
        "    transition_distribution = transition_distribution,\n",
        "    observation_distribution = observation_distribution,\n",
        "    num_steps = 7) # steps: how many times run the model again - number of days (7 days) how many days we want to predict\n",
        "\n"
      ],
      "metadata": {
        "id": "lORxIBtASeso"
      },
      "execution_count": 3,
      "outputs": []
    },
    {
      "cell_type": "code",
      "source": [
        "# The expected temperatures for each day are given by:\n",
        "mean = model.mean() # shape [7], elements approach 9.0\n",
        "#print(mean)\n",
        "\n",
        "with tf.compat.v1.Session() as sess: # for run a session in tensor_version 2.x\n",
        "  print(mean.numpy())\n",
        "\n"
      ],
      "metadata": {
        "colab": {
          "base_uri": "https://localhost:8080/"
        },
        "id": "uCeus7LfBH2M",
        "outputId": "d6711d4a-5b05-47a5-857c-21395b1fe97c"
      },
      "execution_count": 10,
      "outputs": [
        {
          "output_type": "stream",
          "name": "stdout",
          "text": [
            "[3.        5.9999995 7.4999995 8.25      8.625001  8.812501  8.90625  ]\n"
          ]
        }
      ]
    }
  ]
}