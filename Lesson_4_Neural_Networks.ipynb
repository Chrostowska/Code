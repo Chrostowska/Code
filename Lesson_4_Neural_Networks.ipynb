{
  "nbformat": 4,
  "nbformat_minor": 0,
  "metadata": {
    "colab": {
      "provenance": [],
      "authorship_tag": "ABX9TyPKLDOrFv7yPb3aFYpEKTef",
      "include_colab_link": true
    },
    "kernelspec": {
      "name": "python3",
      "display_name": "Python 3"
    },
    "language_info": {
      "name": "python"
    }
  },
  "cells": [
    {
      "cell_type": "markdown",
      "metadata": {
        "id": "view-in-github",
        "colab_type": "text"
      },
      "source": [
        "<a href=\"https://colab.research.google.com/github/Chrostowska/Code/blob/Notes-TF/Lesson_4_Neural_Networks.ipynb\" target=\"_parent\"><img src=\"https://colab.research.google.com/assets/colab-badge.svg\" alt=\"Open In Colab\"/></a>"
      ]
    },
    {
      "cell_type": "code",
      "execution_count": null,
      "metadata": {
        "id": "qb9DkDfgKS0W"
      },
      "outputs": [],
      "source": [
        "'''NEURAL NETWORKS:\n",
        "provide classification or prediction\n",
        "\n",
        "-input informations ---(neural network[function(x)])---> output informations\n",
        "\n",
        "input layer (first layer)\n",
        "\n",
        "            input layer   output layer\n",
        "input info --->  O            [0, 1] - output value are between 0 and 1\n",
        "input info --->  O    ---->  O\n",
        "input info --->  O\n",
        "\n",
        "classification of the image: picture with a pixels 28x28 ---> 784 pixels ---> 784 inputs\n",
        "output (we have 2 classes) one output neuron [0, 1] - value of that output neuron\n",
        "\n",
        "closer to 0, class 1\n",
        "closer to 1, class 2\n",
        "\n",
        "\n",
        "also as many outputs neuron as many classes to the prediction (5 classes 5 outputs)\n",
        "            input layer   output layer\n",
        "                              [0, 1] each\n",
        "input info --->  O    ---->  O [0.9]\n",
        "input info --->  O    ---->  O [0.001]\n",
        "input info --->  O    ---->  O [0.05]   -----> sum all 5 values of outputs to 1.0\n",
        "input info --->  O    ---->  O [0.004]\n",
        "input info --->  O    ---->  O [0.045]   probability distribution for output layer\n",
        "...\n",
        "\n",
        "\n",
        "\n",
        "data points (x, y, z)\n",
        "categories red, blue\n",
        "\n",
        "            input layer      hidden layer     output layer\n",
        "input info ---> x O val 2\n",
        "                       --->      N1 O                  [0, 1] range between 0 and 1\n",
        "input info ---> y O val 2                ---->     O    ----> information (red[0] or blue[1])\n",
        "                       --->      N2 O\n",
        "input info ---> z O val 2\n",
        "                                    B\n",
        "                  B\n",
        "      n                   n           Wi Xi\n",
        "N1 = Σ Wi Xi  + b   ---> Σ Wi Xi ---> Wx(2) + Wy(2) + Wz(2) = V\n",
        "      i = 0              i = 0\n",
        "\n",
        "\n",
        "\n",
        "Σ - sum\n",
        "W - weight\n",
        "i - index\n",
        "n - how many neurons in previouse layer (what index go up to)\n",
        "b - bias - the next layer of the complexicity, allowes to shift the activation function in the left, right, up, down\n",
        "\n",
        "\n",
        "\n",
        "trainable parameters:\n",
        "weights\n",
        "bias\n",
        "\n",
        "weights - connections between nodes\n",
        "B - bias: constant numeric value (weight 1)\n",
        " only 1 bias per layer, exist in previouse layer to the layer that it's affect\n",
        "denselly connected neural networks - each node (neuron) from previouse layer is connected to every node in the next layer\n",
        "\n",
        "how many connections, 6, bcs 3 x 2 = 6\n",
        "'''"
      ]
    },
    {
      "cell_type": "code",
      "source": [
        "'''ACTIVATION FUNCTIONS\n",
        "- moves up in the dimensionality (higer dimension)\n",
        "\n",
        "\n",
        "\n",
        "RELU [0, ...infinity] - eliminate negative numbers\n",
        "Tanh [-1, 1]\n",
        "Sigmoid [0, 1]\n",
        "\n",
        "\n",
        "Input function on hidden layer:\n",
        "        n                   n           Wi Xi\n",
        "N1 = F(Σ Wi Xi  + b)   ---> Σ Wi Xi ---> Wx(2) + Wy(2) + Wz(2) = V\n",
        "        i = 0\n",
        "F - activation function\n",
        "\n",
        "\n",
        "\n",
        "data points (x, y, z)\n",
        "categories red, blue\n",
        "\n",
        "            input layer      hidden layer     output layer\n",
        "input info ---> x O val 2\n",
        "                       --->      N1 O           sigmoid func [0, 1] range between 0 and 1\n",
        "input info ---> y O val 2                ---->     O    ----> Sigmoid(N1 W0 + N2 W1 + b)\n",
        "                       --->      N2 O\n",
        "input info ---> z O val 2\n",
        "'''"
      ],
      "metadata": {
        "id": "sJLeJt0Bc3Or"
      },
      "execution_count": null,
      "outputs": []
    },
    {
      "cell_type": "code",
      "source": [
        "'''LOSS(COST) FUNCTION\n",
        "\n",
        "calculate how far away our output is from the expected output\n",
        "giving the idea how bad/good our neural network was (higher value - worse network)\n",
        "\n",
        "training of the netwoerk:\n",
        "giving input\n",
        "giving expected output\n",
        "\n",
        "expected output red [0]\n",
        "\n",
        "data points (x, y, z)\n",
        "categories red, blue\n",
        "\n",
        "            input layer      hidden layer     output layer    output      expected output\n",
        "input info ---> x O val 2\n",
        "                       --->      N1 O          sigma act f\n",
        "input info ---> y O val 2                ---->     O    ----> [0.7]           [0.]\n",
        "                       --->      N2 O\n",
        "input info ---> z O val 2\n",
        "\n",
        "\n",
        "\n",
        "\n",
        "UPDATING WEIGHTS AND BIASES\n",
        "\n",
        "gradient descent - slipness/direction (we are moving to that direction) optimization alghoritm used for find optimal parameters(weights, biases) for neural network\n",
        " (update the parameters of the model) for minimize loss function output (advanced math).\n",
        "backpropagation - Stepping back throught the network and updating weights and biases according to the gradient which we had calculated.\n",
        "\n",
        "'''"
      ],
      "metadata": {
        "id": "dVSWqQ2DJG42"
      },
      "execution_count": null,
      "outputs": []
    },
    {
      "cell_type": "code",
      "source": [
        "'''OPTIMIZER\n",
        "\n",
        "Algorithm(function) implementing backpropagation and Gradient Descent. The list of common ones:\n",
        "- Gradient Descent\n",
        "- Stochastic Gradient Descent\n",
        "- Mini-Batch Gradient Descent\n",
        "- Momentum\n",
        "- Nesterov Accelerator Gradient\n",
        "'''"
      ],
      "metadata": {
        "id": "xyoOs69XRz1d"
      },
      "execution_count": null,
      "outputs": []
    },
    {
      "cell_type": "code",
      "source": [
        "'''NEURAL NETWORK MODEL'''\n",
        "\n",
        "%tensorflow_version 2.x\n",
        "\n",
        "#Tensorflow and tf.keras\n",
        "import tensorflow as tf\n",
        "from tensorflow import keras\n",
        "\n",
        "#helper libraries\n",
        "import numpy as np\n",
        "import matplotlib.pyplot as plt\n"
      ],
      "metadata": {
        "colab": {
          "base_uri": "https://localhost:8080/"
        },
        "id": "2oEUv5a3oKpF",
        "outputId": "101af142-6e44-4555-cde4-8ffd42fcab78"
      },
      "execution_count": 56,
      "outputs": [
        {
          "output_type": "stream",
          "name": "stdout",
          "text": [
            "Colab only includes TensorFlow 2.x; %tensorflow_version has no effect.\n"
          ]
        }
      ]
    },
    {
      "cell_type": "code",
      "source": [
        "''' Fashion MNIST dataset included in Keras. Contains 70,000 grayscale images in 10 categories. The images show individual articles of clothing at low resolution (28 by\n",
        "28 pixels). This dataset include 60 000 images for training and 10 000 for validation/testing.'''\n",
        "\n",
        "fashion_mnist = keras.datasets.fashion_mnist #load dataset\n",
        "\n",
        "(train_images, train_labels), (test_images, test_labels) = fashion_mnist.load_data() #split into testing and training\n",
        "#labels are from 0 to 9 which are categories\n",
        "\n"
      ],
      "metadata": {
        "id": "_XJLqjazo3Q8"
      },
      "execution_count": 57,
      "outputs": []
    },
    {
      "cell_type": "code",
      "source": [
        "train_images.shape # 60 000 images (28 by 28 pixels) - 784 pixels in total for one image"
      ],
      "metadata": {
        "colab": {
          "base_uri": "https://localhost:8080/"
        },
        "id": "VisS9nwAs65X",
        "outputId": "80a0e189-b917-4ec3-f8e1-8ffb4714b9c7"
      },
      "execution_count": 36,
      "outputs": [
        {
          "output_type": "execute_result",
          "data": {
            "text/plain": [
              "(60000, 28, 28)"
            ]
          },
          "metadata": {},
          "execution_count": 36
        }
      ]
    },
    {
      "cell_type": "code",
      "source": [
        "train_images[0, 23, 23] #look at 1 pixel from row 23 column 23. One pixel represent by the value between 0 (black) and 255(white) - gray scale pictures"
      ],
      "metadata": {
        "colab": {
          "base_uri": "https://localhost:8080/"
        },
        "id": "-Rwan6WOtAmJ",
        "outputId": "b9bbf3ba-cb49-4764-ead2-095bf8b78937"
      },
      "execution_count": 5,
      "outputs": [
        {
          "output_type": "execute_result",
          "data": {
            "text/plain": [
              "194"
            ]
          },
          "metadata": {},
          "execution_count": 5
        }
      ]
    },
    {
      "cell_type": "code",
      "source": [
        "train_labels[:10] #Each label is an integer between 0 and 9. Each integer represent a specific article of clothing. We'll create an array of label names\n",
        "#to indicate which is which"
      ],
      "metadata": {
        "colab": {
          "base_uri": "https://localhost:8080/"
        },
        "id": "9GG-ZjGLt6Fi",
        "outputId": "ff947821-93f7-4aff-deaf-59185fdb7b13"
      },
      "execution_count": 13,
      "outputs": [
        {
          "output_type": "execute_result",
          "data": {
            "text/plain": [
              "array([9, 0, 0, 3, 0, 2, 7, 2, 5, 5], dtype=uint8)"
            ]
          },
          "metadata": {},
          "execution_count": 13
        }
      ]
    },
    {
      "cell_type": "code",
      "source": [
        "test_images.shape"
      ],
      "metadata": {
        "colab": {
          "base_uri": "https://localhost:8080/"
        },
        "id": "Trd6uSA9_wnm",
        "outputId": "5b3927b3-0911-48d3-fd40-cbec1d7f706f"
      },
      "execution_count": 41,
      "outputs": [
        {
          "output_type": "execute_result",
          "data": {
            "text/plain": [
              "(10000, 28, 28)"
            ]
          },
          "metadata": {},
          "execution_count": 41
        }
      ]
    },
    {
      "cell_type": "code",
      "source": [
        "class_names = ['T-shirt/top', 'Trouser', 'Pullover', 'Dress', 'Coat', 'Sandal', 'Shirt', 'Sneaker', 'Bag', 'Ankle boot']"
      ],
      "metadata": {
        "id": "NvoCH_wRvTte"
      },
      "execution_count": 58,
      "outputs": []
    },
    {
      "cell_type": "code",
      "source": [
        "# how the image look likes\n",
        "plt.figure()\n",
        "plt.imshow(train_images[1])\n",
        "plt.colorbar()\n",
        "plt.grid(False)\n",
        "plt.show()"
      ],
      "metadata": {
        "colab": {
          "base_uri": "https://localhost:8080/",
          "height": 430
        },
        "id": "SI0lMIGmv0W3",
        "outputId": "d4c81e38-d3f7-4d38-d144-751538d1dabc"
      },
      "execution_count": 9,
      "outputs": [
        {
          "output_type": "display_data",
          "data": {
            "text/plain": [
              "<Figure size 640x480 with 2 Axes>"
            ],
            "image/png": "[encoded data removed]"
          },
          "metadata": {}
        }
      ]
    },
    {
      "cell_type": "code",
      "source": [
        "# DATA PREPROCESSING\n",
        "#placing all the values between 0 and 1 for neural networks\n",
        "\n",
        "train_images = train_images / 255.0\n",
        "test_images = test_images / 255.0"
      ],
      "metadata": {
        "id": "xMFOdPJSwgVl"
      },
      "execution_count": 59,
      "outputs": []
    },
    {
      "cell_type": "code",
      "source": [
        "# MODEL - architecture of the neural networks\n",
        "\n",
        "model = keras.Sequential([    #sequential is the most basic, one way neural network (from lrft to right)\n",
        "    keras.layers.Flatten(input_shape = (28, 28)),   #input layer (1), Flatten is taking 28x28 pisel and latten them in a sequence (ciag/linia) of 784 pixels\n",
        "    keras.layers.Dense(128, activation = 'relu'),   #hidden layer (2), 128 picking that number of the input depends of the problem, sometimes little smaller than the input, or bigger, or half\n",
        "    keras.layers.Dense(10, activation = 'softmax')  #output layer (3), 10 bcs of 10 classes which we trying to predict\n",
        "])"
      ],
      "metadata": {
        "id": "9pyWCBVsx-PM"
      },
      "execution_count": 60,
      "outputs": []
    },
    {
      "cell_type": "code",
      "source": [
        "# COMPILE THE MODEL - define the loss function, optimizers and metrics we would like to track\n",
        "\n",
        "# HYPER PARAMITER TUNING - changing optimizer function, loss function, metrics, activation function, nr of the neurons, epochs... and checking out how model perform with different parameter changed\n",
        "\n",
        "model.compile(optimizer = 'adam',  #adam is alghoritm performing gradient descent\n",
        "              loss = 'sparse_categorical_crossentropy',\n",
        "              metrics = ['accuracy']) #what we are looking for, what we want to see at the output which is accuracy"
      ],
      "metadata": {
        "id": "5SjoICVqs3RM"
      },
      "execution_count": 61,
      "outputs": []
    },
    {
      "cell_type": "code",
      "source": [
        "# TRAINING\n",
        "\n",
        "model.fit(train_images, train_labels, epochs = 1)"
      ],
      "metadata": {
        "colab": {
          "base_uri": "https://localhost:8080/"
        },
        "id": "mPXxWWsBvlQ4",
        "outputId": "e9516813-f8bf-4b07-8ae1-7efb5b6754d1"
      },
      "execution_count": 62,
      "outputs": [
        {
          "output_type": "stream",
          "name": "stdout",
          "text": [
            "1875/1875 [==============================] - 7s 3ms/step - loss: 0.4945 - accuracy: 0.8263\n"
          ]
        },
        {
          "output_type": "execute_result",
          "data": {
            "text/plain": [
              "<keras.src.callbacks.History at 0x7eb3417f29b0>"
            ]
          },
          "metadata": {},
          "execution_count": 62
        }
      ]
    },
    {
      "cell_type": "code",
      "source": [
        "#TESTING\n",
        "\n",
        "#test_loss, test_accuracy - splitting into this 2 so we can have look on one of that\n",
        "\n",
        "test_loss, test_acc = model.evaluate(test_images, test_labels, verbose = 1)  #verbose - are we looking at output or not, how much info we see as this model evaluates\n",
        "print('Test accuracy:', test_acc)"
      ],
      "metadata": {
        "colab": {
          "base_uri": "https://localhost:8080/"
        },
        "id": "os20EsYow20b",
        "outputId": "25b925d1-4f10-4e8d-9558-97bcf36916e2"
      },
      "execution_count": 63,
      "outputs": [
        {
          "output_type": "stream",
          "name": "stdout",
          "text": [
            "313/313 [==============================] - 1s 2ms/step - loss: 0.5505 - accuracy: 0.8021\n",
            "Test accuracy: 0.8021000027656555\n"
          ]
        }
      ]
    },
    {
      "cell_type": "code",
      "source": [
        "# PREDICTION\n",
        "\n",
        "predictions = model.predict(test_images)\n",
        "print(class_names[np.argmax(predictions[1])])\n",
        "plt.figure()\n",
        "plt.imshow(test_images[1])\n",
        "plt.colorbar()\n",
        "plt.grid(False)\n",
        "plt.show()"
      ],
      "metadata": {
        "colab": {
          "base_uri": "https://localhost:8080/",
          "height": 470
        },
        "id": "aC452rQtSFQR",
        "outputId": "5586468d-72b0-455b-ee3d-a2e59ebdf756"
      },
      "execution_count": 64,
      "outputs": [
        {
          "output_type": "stream",
          "name": "stdout",
          "text": [
            "313/313 [==============================] - 1s 2ms/step\n",
            "Pullover\n"
          ]
        },
        {
          "output_type": "display_data",
          "data": {
            "text/plain": [
              "<Figure size 640x480 with 2 Axes>"
            ],
            "image/png": "[encoded data removed]"
          },
          "metadata": {}
        }
      ]
    },
    {
      "cell_type": "code",
      "source": [
        "#Simply small function to help verify predictions with some simple visuals\n",
        "\n",
        "\n",
        "COLOR = 'white'\n",
        "plt.rcParams['text.color'] = COLOR\n",
        "plt.rcParams['axes.labelcolor'] = COLOR\n",
        "\n",
        "def predict(model, image, correct_label):\n",
        "  class_names = ['T-shirt/top', 'Trouser', 'Pullover', 'Dress', 'Coat',\n",
        "                 'Sandal', 'Shirt', 'Sneaker', 'Bag', 'Ankle boot']\n",
        "  prediction = model.predict(np.array([image]))\n",
        "  predicted_class = class_names[np.argmax(prediction)]\n",
        "\n",
        "  show_image(image, class_names[correct_label], predicted_class)\n",
        "\n",
        "def show_image(img, label, guess):\n",
        "  plt.figure()\n",
        "  plt.imshow(img, cmap=plt.cm.binary)\n",
        "  plt.title('Expected:' + label)\n",
        "  plt.xlabel('Guess:' + guess)\n",
        "  plt.colorbar()\n",
        "  plt.grid(False)\n",
        "  plt.show()\n",
        "\n",
        "\n",
        "def get_number():\n",
        "  while True:\n",
        "    num = input('Pick a number: ')\n",
        "    if num.isdigit():\n",
        "      num = int(num)\n",
        "      if 0 <= num <= 1000:\n",
        "        return int(num)\n",
        "  else:\n",
        "    print('Try again...')\n",
        "\n",
        "\n",
        "num = get_number()\n",
        "label = test_labels[num]\n",
        "image = test_images[num]\n",
        "predict(model, image, label)\n",
        ""
      ],
      "metadata": {
        "colab": {
          "base_uri": "https://localhost:8080/",
          "height": 507
        },
        "id": "4zoG7WyOSbw0",
        "outputId": "5dc1ee1e-398d-49c9-fbd0-91afd4d9d892"
      },
      "execution_count": 85,
      "outputs": [
        {
          "output_type": "stream",
          "name": "stdout",
          "text": [
            "Pick a number: 45\n",
            "1/1 [==============================] - 0s 19ms/step\n"
          ]
        },
        {
          "output_type": "display_data",
          "data": {
            "text/plain": [
              "<Figure size 640x480 with 2 Axes>"
            ],
            "image/png": "[encoded data removed]"
          },
          "metadata": {}
        }
      ]
    }
  ]
}